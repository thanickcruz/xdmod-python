{
 "cells": [
  {
   "cell_type": "markdown",
   "id": "c7748e21",
   "metadata": {},
   "source": [
    "## Libraries"
   ]
  },
  {
   "cell_type": "code",
   "execution_count": 1,
   "id": "da1dbc58",
   "metadata": {},
   "outputs": [],
   "source": [
    "import xdmod.datawarehouse as xdw\n",
    "import pandas as pd\n",
    "import matplotlib.pyplot as plt\n",
    "import numpy as np\n",
    "import xdmod.visualizer as v"
   ]
  },
  {
   "cell_type": "markdown",
   "id": "0ecde94f",
   "metadata": {},
   "source": [
    "## Sorting Functions"
   ]
  },
  {
   "cell_type": "code",
   "execution_count": 2,
   "id": "308a77a1",
   "metadata": {},
   "outputs": [],
   "source": [
    "def by_median(df):\n",
    "    array = df.to_numpy()\n",
    "    return np.nanmedian(array)\n",
    "\n",
    "def by_mean(df):\n",
    "    array = df.to_numpy()\n",
    "    return np.nanmean(array)"
   ]
  },
  {
   "cell_type": "markdown",
   "id": "997a30f7",
   "metadata": {},
   "source": [
    "## Configuration"
   ]
  },
  {
   "cell_type": "code",
   "execution_count": 3,
   "id": "c89547eb",
   "metadata": {},
   "outputs": [],
   "source": [
    "host = \"https://metrics-dev.ccr.buffalo.edu:9004\"\n",
    "startdate = \"2022-06-16\"\n",
    "enddate = \"2022-06-30\""
   ]
  },
  {
   "cell_type": "markdown",
   "id": "2c983348",
   "metadata": {},
   "source": [
    "## Retrieve Sorted Data"
   ]
  },
  {
   "cell_type": "code",
   "execution_count": 4,
   "id": "d997af9b",
   "metadata": {},
   "outputs": [
    {
     "name": "stdout",
     "output_type": "stream",
     "text": [
      "2022-06-16    0.0\n",
      "2022-06-17    0.0\n",
      "2022-06-18    0.0\n",
      "2022-06-19    0.0\n",
      "2022-06-20    0.0\n",
      "2022-06-21    0.0\n",
      "2022-06-22    NaN\n",
      "2022-06-23    NaN\n",
      "2022-06-24    0.0\n",
      "2022-06-25    0.0\n",
      "2022-06-26    0.0\n",
      "2022-06-27    0.0\n",
      "2022-06-28    NaN\n",
      "2022-06-29    NaN\n",
      "2022-06-30    NaN\n",
      "Name: faculty, dtype: float64\n",
      "2022-06-16     8.0\n",
      "2022-06-17    22.0\n",
      "2022-06-18    18.0\n",
      "2022-06-19     7.0\n",
      "2022-06-20     6.0\n",
      "2022-06-21    11.0\n",
      "2022-06-22     0.0\n",
      "2022-06-23     1.0\n",
      "2022-06-24     1.0\n",
      "2022-06-25     0.0\n",
      "2022-06-26     0.0\n",
      "2022-06-27     0.0\n",
      "2022-06-28     0.0\n",
      "2022-06-29     0.0\n",
      "2022-06-30     0.0\n",
      "Name: faculty, dtype: float64\n",
      "2022-06-16     8.0\n",
      "2022-06-17    22.0\n",
      "2022-06-18    18.0\n",
      "2022-06-19     7.0\n",
      "2022-06-20     6.0\n",
      "2022-06-21    11.0\n",
      "2022-06-22     0.0\n",
      "2022-06-23     1.0\n",
      "2022-06-24     1.0\n",
      "2022-06-25     0.0\n",
      "2022-06-26     0.0\n",
      "2022-06-27     0.0\n",
      "2022-06-28     0.0\n",
      "2022-06-29     0.0\n",
      "2022-06-30     0.0\n",
      "Name: faculty, dtype: float64\n",
      "2022-06-16    100.0\n",
      "2022-06-17    100.0\n",
      "2022-06-18    100.0\n",
      "2022-06-19    100.0\n",
      "2022-06-20    100.0\n",
      "2022-06-21    100.0\n",
      "2022-06-22    100.0\n",
      "2022-06-23    100.0\n",
      "2022-06-24    100.0\n",
      "2022-06-25    100.0\n",
      "2022-06-26    100.0\n",
      "2022-06-27    100.0\n",
      "2022-06-28    100.0\n",
      "2022-06-29    100.0\n",
      "2022-06-30    100.0\n",
      "Name: faculty, dtype: float64\n"
     ]
    }
   ],
   "source": [
    "resources = []\n",
    "\n",
    "for type in ['gpu', 'hardware', 'cpu', 'realms']:\n",
    "    config = {\"start\": startdate, \"end\": enddate, \"type\": type}                \n",
    "    with xdw.DataWareHouse(host) as test:\n",
    "        data = test.get_qualitydata(config)\n",
    "        resources.append(data)\n",
    "        \n",
    "resources.sort(key=by_median)\n",
    "for res in resources:\n",
    "    print(res.loc['faculty'])\n",
    "    #v.quality_heatmap(res)"
   ]
  },
  {
   "cell_type": "markdown",
   "id": "33c317b0",
   "metadata": {},
   "source": [
    "## Isolating reports for alerts\n",
    "\n",
    "Should send alerts if:\n",
    "1. Average % of jobs at week n drops over 10 since week n-1\n",
    "2. If a resource that was present is no longer present "
   ]
  },
  {
   "cell_type": "code",
   "execution_count": 5,
   "id": "c1f72f29",
   "metadata": {},
   "outputs": [
    {
     "data": {
      "text/plain": [
       "datetime.date(2022, 7, 11)"
      ]
     },
     "execution_count": 5,
     "metadata": {},
     "output_type": "execute_result"
    }
   ],
   "source": [
    "from datetime import date\n",
    "import datetime\n",
    "today = date.today()\n",
    "last_week = today - datetime.timedelta(days=7)\n",
    "last_week"
   ]
  },
  {
   "cell_type": "code",
   "execution_count": null,
   "id": "2a27fc58",
   "metadata": {},
   "outputs": [],
   "source": []
  }
 ],
 "metadata": {
  "kernelspec": {
   "display_name": "Python 3 (ipykernel)",
   "language": "python",
   "name": "python3"
  },
  "language_info": {
   "codemirror_mode": {
    "name": "ipython",
    "version": 3
   },
   "file_extension": ".py",
   "mimetype": "text/x-python",
   "name": "python",
   "nbconvert_exporter": "python",
   "pygments_lexer": "ipython3",
   "version": "3.9.7"
  }
 },
 "nbformat": 4,
 "nbformat_minor": 5
}
